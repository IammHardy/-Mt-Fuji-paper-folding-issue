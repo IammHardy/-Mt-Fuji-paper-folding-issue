{
 "cells": [
  {
   "cell_type": "markdown",
   "id": "6ff13fc4",
   "metadata": {},
   "source": [
    "# PROBLEM 1"
   ]
  },
  {
   "cell_type": "code",
   "execution_count": 8,
   "id": "d111e258",
   "metadata": {},
   "outputs": [
    {
     "name": "stdout",
     "output_type": "stream",
     "text": [
      "exceeded MT fuji on the 27th fold\n"
     ]
    }
   ],
   "source": [
    "Thickness = 0.00008\n",
    "MT_FUJI = 3776\n",
    "folding_times = 1\n",
    "current_thickness =0\n",
    "while(current_thickness < MT_FUJI):\n",
    "    current_thickness = Thickness*(2**folding_times)\n",
    "    folding_times+=1\n",
    "print('exceeded MT fuji on the {}th fold'.format(folding_times))"
   ]
  },
  {
   "cell_type": "markdown",
   "id": "825f87b2",
   "metadata": {},
   "source": [
    "# PROBLEM 2"
   ]
  },
  {
   "cell_type": "code",
   "execution_count": 10,
   "id": "d0c6c68e",
   "metadata": {},
   "outputs": [
    {
     "name": "stdout",
     "output_type": "stream",
     "text": [
      "reached the closest non star on the 60th fold \n"
     ]
    }
   ],
   "source": [
    "CLOSEST_NON_SUN_STAR = 4.2\n",
    "\n",
    "LIGHT_YEAR = 9.5\n",
    "\n",
    "DISTANCE = (9.5 * 4.2)*1000000000000\n",
    "\n",
    "def calculate_folds_from_distance(DISTANCE):\n",
    "    \n",
    "    fold_times = 1\n",
    "    new_thickness = 0\n",
    "    \n",
    "    while(new_thickness < DISTANCE):\n",
    "        new_thickness = Thickness*(2**fold_times)\n",
    "        fold_times+=1\n",
    "\n",
    "    return fold_times\n",
    "print('reached the closest non star on the {}th fold ' .format(calculate_folds_from_distance(DISTANCE)))\n"
   ]
  },
  {
   "cell_type": "markdown",
   "id": "f26551db",
   "metadata": {},
   "source": [
    "# PROBLEM 3"
   ]
  },
  {
   "cell_type": "code",
   "execution_count": 14,
   "id": "a54f44f8",
   "metadata": {},
   "outputs": [
    {
     "name": "stdout",
     "output_type": "stream",
     "text": [
      "the length of paper needed to be folded to reach the moon is 4.126466797618639e+21m\n",
      "the length of paper needed to be folded to reach the mt Fuji is 240191985495.13556m\n",
      "the length of paper needed to be folded to reach the moon is 1.772303994379888e+31m\n"
     ]
    }
   ],
   "source": [
    "def cal_numb_of_folds(folds):\n",
    "    third_thickness = 0.00008\n",
    "    length = (third_thickness/6)*((2**folds)+4)*(2**folds-1)\n",
    "    return length\n",
    "\n",
    "distance_to_the_moon = 384400*1000\n",
    "\n",
    "print('the length of paper needed to be folded to reach the moon is {}m'.format(cal_numb_of_folds(calculate_folds_from_distance(distance_to_the_moon))))\n",
    "print('the length of paper needed to be folded to reach the mt Fuji is {}m'.format(cal_numb_of_folds(calculate_folds_from_distance(MT_FUJI))))\n",
    "print('the length of paper needed to be folded to reach the moon is {}m'.format(cal_numb_of_folds(calculate_folds_from_distance(DISTANCE))))\n"
   ]
  },
  {
   "cell_type": "code",
   "execution_count": null,
   "id": "e47bf9d0",
   "metadata": {},
   "outputs": [],
   "source": []
  }
 ],
 "metadata": {
  "kernelspec": {
   "display_name": "Python 3 (ipykernel)",
   "language": "python",
   "name": "python3"
  },
  "language_info": {
   "codemirror_mode": {
    "name": "ipython",
    "version": 3
   },
   "file_extension": ".py",
   "mimetype": "text/x-python",
   "name": "python",
   "nbconvert_exporter": "python",
   "pygments_lexer": "ipython3",
   "version": "3.11.5"
  }
 },
 "nbformat": 4,
 "nbformat_minor": 5
}
